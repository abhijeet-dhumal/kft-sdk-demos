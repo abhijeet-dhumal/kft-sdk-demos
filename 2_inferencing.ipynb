{
 "cells": [
  {
   "cell_type": "markdown",
   "id": "69327963-54e5-4bf5-8719-bf13e94ddd34",
   "metadata": {},
   "source": [
    "### Define Model Architecture"
   ]
  },
  {
   "cell_type": "code",
   "execution_count": 7,
   "id": "1154bf95-0c04-4726-bf5b-ce806f6f4b96",
   "metadata": {},
   "outputs": [],
   "source": [
    "import os\n",
    "import torch\n",
    "\n",
    "# Define the MNIST CNN model architecture (as used during training)\n",
    "class Net(torch.nn.Module):\n",
    "    def __init__(self):\n",
    "        super(Net, self).__init__()\n",
    "        self.conv1 = torch.nn.Conv2d(1, 20, 5, 1)\n",
    "        self.conv2 = torch.nn.Conv2d(20, 50, 5, 1)\n",
    "        self.fc1 = torch.nn.Linear(4 * 4 * 50, 500)\n",
    "        self.fc2 = torch.nn.Linear(500, 10)\n",
    "\n",
    "    def forward(self, x):\n",
    "        import torch.nn.functional as F\n",
    "        x = F.relu(self.conv1(x))\n",
    "        x = F.max_pool2d(x, 2, 2)\n",
    "        x = F.relu(self.conv2(x))\n",
    "        x = F.max_pool2d(x, 2, 2)\n",
    "        x = x.view(-1, 4 * 4 * 50)\n",
    "        x = F.relu(self.fc1(x))\n",
    "        x = self.fc2(x)\n",
    "        return F.log_softmax(x, dim=1)"
   ]
  },
  {
   "cell_type": "markdown",
   "id": "8a12ef8b-0d1c-4130-a34c-46843bc02a79",
   "metadata": {},
   "source": [
    "### Load Trained model for Inferencing"
   ]
  },
  {
   "cell_type": "code",
   "execution_count": null,
   "id": "6f097b83-9b26-47a3-8830-8f4b982c7032",
   "metadata": {},
   "outputs": [],
   "source": [
    "device = torch.device(\"cuda\" if torch.cuda.is_available() else \"cpu\")\n",
    "model = Net().to(device)\n",
    "model_path = \"/opt/app-root/src/shared/checkpoints/snapshot_mnist.pt\"\n",
    "\n",
    "# Load the checkpoint dictionary\n",
    "checkpoint = torch.load(model_path, map_location=device, weights_only=True)\n",
    "\n",
    "# Extract just the model state dict\n",
    "model.load_state_dict(checkpoint[\"MODEL_STATE\"])\n",
    "model.eval()\n",
    "print(\"Model loaded and set to evaluation mode.\")\n",
    "\n",
    "# If you also want to see the training info:\n",
    "print(f\"Model was trained for {checkpoint['EPOCHS_RUN']} epochs\")"
   ]
  },
  {
   "cell_type": "markdown",
   "id": "f18576e9-4851-4931-b2fe-8f683d680389",
   "metadata": {},
   "source": [
    "### Test Sample Handwritten Images to Predict Digit"
   ]
  },
  {
   "cell_type": "code",
   "execution_count": null,
   "id": "11a954e9-ebaa-4595-b541-901f7d9d1b2e",
   "metadata": {},
   "outputs": [],
   "source": [
    "import torchvision.transforms as transforms\n",
    "from PIL import Image\n",
    "\n",
    "image_path=\"test_images/five.png\"\n",
    "\n",
    "transform = transforms.Compose([\n",
    "    transforms.Grayscale(num_output_channels=1),\n",
    "    transforms.Resize((28, 28)),\n",
    "    transforms.ToTensor(),\n",
    "])\n",
    "\n",
    "# Load the image and apply the transformations\n",
    "try:\n",
    "    image = Image.open(image_path)\n",
    "    image = transform(image).unsqueeze(0).to(device)\n",
    "    # Perform inference using the model\n",
    "    with torch.no_grad():\n",
    "        output = model(image)\n",
    "        probabilities = torch.exp(output)  # Convert log_softmax to probabilities\n",
    "        predicted = output.argmax(dim=1, keepdim=True).item()\n",
    "        confidence = probabilities[0][predicted].item()\n",
    "    print(f\"Predicted handwritten digit: {predicted}\")\n",
    "    print(f\"Confidence: {confidence:.4f}\")\n",
    "except FileNotFoundError:\n",
    "    print(f\"Image not found: {image_path}\")"
   ]
  }
 ],
 "metadata": {
  "kernelspec": {
   "display_name": "Python 3.12",
   "language": "python",
   "name": "python3"
  },
  "language_info": {
   "codemirror_mode": {
    "name": "ipython",
    "version": 3
   },
   "file_extension": ".py",
   "mimetype": "text/x-python",
   "name": "python",
   "nbconvert_exporter": "python",
   "pygments_lexer": "ipython3",
   "version": "3.12.9"
  }
 },
 "nbformat": 4,
 "nbformat_minor": 5
}
