{
 "cells": [
  {
   "cell_type": "code",
   "execution_count": 31,
   "id": "9a0bff2d-8b64-4771-a775-612487ea6652",
   "metadata": {
    "scrolled": true
   },
   "outputs": [
    {
     "name": "stdout",
     "output_type": "stream",
     "text": [
      "Requirement already satisfied: kubeflow in /opt/app-root/lib64/python3.11/site-packages (0.0.1rc0)\n",
      "Requirement already satisfied: certifi>=14.05.14 in /opt/app-root/lib64/python3.11/site-packages (from kubeflow) (2024.8.30)\n",
      "Requirement already satisfied: six>=1.10 in /opt/app-root/lib64/python3.11/site-packages (from kubeflow) (1.16.0)\n",
      "Requirement already satisfied: setuptools>=21.0.0 in /opt/app-root/lib64/python3.11/site-packages (from kubeflow) (74.1.3)\n",
      "Requirement already satisfied: urllib3>=1.15.1 in /opt/app-root/lib64/python3.11/site-packages (from kubeflow) (1.26.20)\n",
      "Requirement already satisfied: kubernetes>=23.6.0 in /opt/app-root/lib64/python3.11/site-packages (from kubeflow) (32.0.1)\n",
      "Requirement already satisfied: retrying>=1.3.3 in /opt/app-root/lib64/python3.11/site-packages (from kubeflow) (1.3.4)\n",
      "Requirement already satisfied: python-dateutil>=2.5.3 in /opt/app-root/lib64/python3.11/site-packages (from kubernetes>=23.6.0->kubeflow) (2.9.0.post0)\n",
      "Requirement already satisfied: pyyaml>=5.4.1 in /opt/app-root/lib64/python3.11/site-packages (from kubernetes>=23.6.0->kubeflow) (6.0.2)\n",
      "Requirement already satisfied: google-auth>=1.0.1 in /opt/app-root/lib64/python3.11/site-packages (from kubernetes>=23.6.0->kubeflow) (2.36.0)\n",
      "Requirement already satisfied: websocket-client!=0.40.0,!=0.41.*,!=0.42.*,>=0.32.0 in /opt/app-root/lib64/python3.11/site-packages (from kubernetes>=23.6.0->kubeflow) (1.8.0)\n",
      "Requirement already satisfied: requests in /opt/app-root/lib64/python3.11/site-packages (from kubernetes>=23.6.0->kubeflow) (2.32.3)\n",
      "Requirement already satisfied: requests-oauthlib in /opt/app-root/lib64/python3.11/site-packages (from kubernetes>=23.6.0->kubeflow) (2.0.0)\n",
      "Requirement already satisfied: oauthlib>=3.2.2 in /opt/app-root/lib64/python3.11/site-packages (from kubernetes>=23.6.0->kubeflow) (3.2.2)\n",
      "Requirement already satisfied: durationpy>=0.7 in /opt/app-root/lib64/python3.11/site-packages (from kubernetes>=23.6.0->kubeflow) (0.9)\n",
      "Requirement already satisfied: cachetools<6.0,>=2.0.0 in /opt/app-root/lib64/python3.11/site-packages (from google-auth>=1.0.1->kubernetes>=23.6.0->kubeflow) (5.5.0)\n",
      "Requirement already satisfied: pyasn1-modules>=0.2.1 in /opt/app-root/lib64/python3.11/site-packages (from google-auth>=1.0.1->kubernetes>=23.6.0->kubeflow) (0.4.1)\n",
      "Requirement already satisfied: rsa<5,>=3.1.4 in /opt/app-root/lib64/python3.11/site-packages (from google-auth>=1.0.1->kubernetes>=23.6.0->kubeflow) (4.9)\n",
      "Requirement already satisfied: charset-normalizer<4,>=2 in /opt/app-root/lib64/python3.11/site-packages (from requests->kubernetes>=23.6.0->kubeflow) (3.4.0)\n",
      "Requirement already satisfied: idna<4,>=2.5 in /opt/app-root/lib64/python3.11/site-packages (from requests->kubernetes>=23.6.0->kubeflow) (3.10)\n",
      "Requirement already satisfied: pyasn1<0.7.0,>=0.4.6 in /opt/app-root/lib64/python3.11/site-packages (from pyasn1-modules>=0.2.1->google-auth>=1.0.1->kubernetes>=23.6.0->kubeflow) (0.6.1)\n",
      "\n",
      "\u001b[1m[\u001b[0m\u001b[34;49mnotice\u001b[0m\u001b[1;39;49m]\u001b[0m\u001b[39;49m A new release of pip is available: \u001b[0m\u001b[31;49m23.2.1\u001b[0m\u001b[39;49m -> \u001b[0m\u001b[32;49m25.0.1\u001b[0m\n",
      "\u001b[1m[\u001b[0m\u001b[34;49mnotice\u001b[0m\u001b[1;39;49m]\u001b[0m\u001b[39;49m To update, run: \u001b[0m\u001b[32;49mpip install --upgrade pip\u001b[0m\n",
      "Note: you may need to restart the kernel to use updated packages.\n",
      "Requirement already satisfied: kubeflow-training in /opt/app-root/lib64/python3.11/site-packages (1.9.1)\n",
      "Requirement already satisfied: certifi>=14.05.14 in /opt/app-root/lib64/python3.11/site-packages (from kubeflow-training) (2024.8.30)\n",
      "Requirement already satisfied: six>=1.10 in /opt/app-root/lib64/python3.11/site-packages (from kubeflow-training) (1.16.0)\n",
      "Requirement already satisfied: setuptools>=21.0.0 in /opt/app-root/lib64/python3.11/site-packages (from kubeflow-training) (74.1.3)\n",
      "Requirement already satisfied: urllib3>=1.15.1 in /opt/app-root/lib64/python3.11/site-packages (from kubeflow-training) (1.26.20)\n",
      "Requirement already satisfied: kubernetes>=27.2.0 in /opt/app-root/lib64/python3.11/site-packages (from kubeflow-training) (32.0.1)\n",
      "Requirement already satisfied: retrying>=1.3.3 in /opt/app-root/lib64/python3.11/site-packages (from kubeflow-training) (1.3.4)\n",
      "Requirement already satisfied: python-dateutil>=2.5.3 in /opt/app-root/lib64/python3.11/site-packages (from kubernetes>=27.2.0->kubeflow-training) (2.9.0.post0)\n",
      "Requirement already satisfied: pyyaml>=5.4.1 in /opt/app-root/lib64/python3.11/site-packages (from kubernetes>=27.2.0->kubeflow-training) (6.0.2)\n",
      "Requirement already satisfied: google-auth>=1.0.1 in /opt/app-root/lib64/python3.11/site-packages (from kubernetes>=27.2.0->kubeflow-training) (2.36.0)\n",
      "Requirement already satisfied: websocket-client!=0.40.0,!=0.41.*,!=0.42.*,>=0.32.0 in /opt/app-root/lib64/python3.11/site-packages (from kubernetes>=27.2.0->kubeflow-training) (1.8.0)\n",
      "Requirement already satisfied: requests in /opt/app-root/lib64/python3.11/site-packages (from kubernetes>=27.2.0->kubeflow-training) (2.32.3)\n",
      "Requirement already satisfied: requests-oauthlib in /opt/app-root/lib64/python3.11/site-packages (from kubernetes>=27.2.0->kubeflow-training) (2.0.0)\n",
      "Requirement already satisfied: oauthlib>=3.2.2 in /opt/app-root/lib64/python3.11/site-packages (from kubernetes>=27.2.0->kubeflow-training) (3.2.2)\n",
      "Requirement already satisfied: durationpy>=0.7 in /opt/app-root/lib64/python3.11/site-packages (from kubernetes>=27.2.0->kubeflow-training) (0.9)\n",
      "Requirement already satisfied: cachetools<6.0,>=2.0.0 in /opt/app-root/lib64/python3.11/site-packages (from google-auth>=1.0.1->kubernetes>=27.2.0->kubeflow-training) (5.5.0)\n",
      "Requirement already satisfied: pyasn1-modules>=0.2.1 in /opt/app-root/lib64/python3.11/site-packages (from google-auth>=1.0.1->kubernetes>=27.2.0->kubeflow-training) (0.4.1)\n",
      "Requirement already satisfied: rsa<5,>=3.1.4 in /opt/app-root/lib64/python3.11/site-packages (from google-auth>=1.0.1->kubernetes>=27.2.0->kubeflow-training) (4.9)\n",
      "Requirement already satisfied: charset-normalizer<4,>=2 in /opt/app-root/lib64/python3.11/site-packages (from requests->kubernetes>=27.2.0->kubeflow-training) (3.4.0)\n",
      "Requirement already satisfied: idna<4,>=2.5 in /opt/app-root/lib64/python3.11/site-packages (from requests->kubernetes>=27.2.0->kubeflow-training) (3.10)\n",
      "Requirement already satisfied: pyasn1<0.7.0,>=0.4.6 in /opt/app-root/lib64/python3.11/site-packages (from pyasn1-modules>=0.2.1->google-auth>=1.0.1->kubernetes>=27.2.0->kubeflow-training) (0.6.1)\n",
      "\n",
      "\u001b[1m[\u001b[0m\u001b[34;49mnotice\u001b[0m\u001b[1;39;49m]\u001b[0m\u001b[39;49m A new release of pip is available: \u001b[0m\u001b[31;49m23.2.1\u001b[0m\u001b[39;49m -> \u001b[0m\u001b[32;49m25.0.1\u001b[0m\n",
      "\u001b[1m[\u001b[0m\u001b[34;49mnotice\u001b[0m\u001b[1;39;49m]\u001b[0m\u001b[39;49m To update, run: \u001b[0m\u001b[32;49mpip install --upgrade pip\u001b[0m\n",
      "Note: you may need to restart the kernel to use updated packages.\n"
     ]
    }
   ],
   "source": [
    "%pip install kubeflow\n",
    "%pip install -U kubeflow-training"
   ]
  },
  {
   "cell_type": "code",
   "execution_count": 32,
   "id": "43c9388c-bd71-4877-a358-fcb57d797848",
   "metadata": {},
   "outputs": [
    {
     "name": "stdout",
     "output_type": "stream",
     "text": [
      "Name: kubeflow-training\n",
      "Version: 1.9.1\n",
      "Summary: Training Operator Python SDK\n",
      "Home-page: https://github.com/kubeflow/training-operator/tree/master/sdk/python\n",
      "Author: Kubeflow Authors\n",
      "Author-email: hejinchi@cn.ibm.com\n",
      "License: Apache License Version 2.0\n",
      "Location: /opt/app-root/lib64/python3.11/site-packages\n",
      "Requires: certifi, kubernetes, retrying, setuptools, six, urllib3\n",
      "Required-by: \n",
      "Note: you may need to restart the kernel to use updated packages.\n"
     ]
    }
   ],
   "source": [
    "%pip show kubeflow-training"
   ]
  },
  {
   "cell_type": "code",
   "execution_count": null,
   "id": "001d5853-66d5-4229-8817-d421e18c2bf8",
   "metadata": {},
   "outputs": [
    {
     "name": "stdout",
     "output_type": "stream",
     "text": [
      "successfully authenticated!\n"
     ]
    }
   ],
   "source": [
    "from kubernetes import client\n",
    "from kubeflow.training import TrainingClient\n",
    "\n",
    "api_server = \"\"\n",
    "token = \"\"\n",
    "namespace=\"test-namespace\"\n",
    "\n",
    "# Configure the API client with the server and token\n",
    "configuration = client.Configuration()\n",
    "configuration.host = api_server\n",
    "configuration.api_key = {\"authorization\": f\"Bearer {token}\"}\n",
    "configuration.verify_ssl = False  # Disable SSL verification\n",
    "\n",
    "print(\"successfully authenticated!\")"
   ]
  },
  {
   "cell_type": "code",
   "execution_count": 37,
   "id": "3c764f98-ac42-4edd-9275-fe54aabb2dfb",
   "metadata": {},
   "outputs": [],
   "source": [
    "client = TrainingClient()"
   ]
  },
  {
   "cell_type": "code",
   "execution_count": null,
   "id": "ec5f3e08-078f-4c92-842b-9757a3a2d814",
   "metadata": {},
   "outputs": [
    {
     "name": "stderr",
     "output_type": "stream",
     "text": [
      "/opt/app-root/lib64/python3.11/site-packages/urllib3/connectionpool.py:1064: InsecureRequestWarning: Unverified HTTPS request is being made to host 'api.abdhumal-osd2.mbh6.p1.openshiftapps.com'. Adding certificate verification is strongly advised. See: https://urllib3.readthedocs.io/en/1.26.x/advanced-usage.html#ssl-warnings\n",
      "  warnings.warn(\n"
     ]
    },
    {
     "name": "stdout",
     "output_type": "stream",
     "text": [
      "ConfigMap 'fms-hf-tuning-config' created successfully in namespace 'test-namespace'.\n"
     ]
    }
   ],
   "source": [
    "# create configmap to store driver_stats_training.jsonl files\n",
    "import os\n",
    "from kubernetes import client, config\n",
    "from kubernetes.client.rest import ApiException\n",
    "\n",
    "# Define ConfigMap name\n",
    "CONFIGMAP_NAME = \"fms-hf-tuning-config\"\n",
    "\n",
    "# Define headers for API authentication\n",
    "configuration = client.Configuration()\n",
    "configuration.host = api_server\n",
    "configuration.verify_ssl = False  # Set to True if using a valid CA certificate\n",
    "configuration.api_key = {\"authorization\": f\"Bearer {token}\"}\n",
    "\n",
    "# Load Kubernetes client configuration\n",
    "client.Configuration.set_default(configuration)\n",
    "api_instance = client.CoreV1Api()\n",
    "\n",
    "# Read training dataset file from the current directory\n",
    "CONFIG_FILE = \"./config_lora.json\"\n",
    "DATASET_FILE = \"./twitter_complaints_small.json\"\n",
    "\n",
    "if os.path.exists(DATASET_FILE):\n",
    "    with open(DATASET_FILE, \"r\", encoding=\"utf-8\") as file:\n",
    "        dataset_content = file.read()\n",
    "else:\n",
    "    raise FileNotFoundError(f\"Dataset file '{DATASET_FILE}' not found in current directory.\")\n",
    "\n",
    "if os.path.exists(CONFIG_FILE):\n",
    "    with open(CONFIG_FILE, \"r\", encoding=\"utf-8\") as file:\n",
    "        config_content = file.read()\n",
    "else:\n",
    "    raise FileNotFoundError(f\"Dataset file '{CONFIG_FILE}' not found in current directory.\")\n",
    "\n",
    "# Define ConfigMap data\n",
    "if dataset_content:\n",
    "    configmap_data = {\n",
    "        f\"twitter_complaints.json\": dataset_content,\n",
    "        f\"config_lora.json\": config_content\n",
    "    }\n",
    "\n",
    "    # Create the ConfigMap object\n",
    "    configmap = client.V1ConfigMap(\n",
    "        metadata=client.V1ObjectMeta(name=CONFIGMAP_NAME),\n",
    "        data=configmap_data\n",
    "    )\n",
    "    \n",
    "    # Apply ConfigMap to Kubernetes\n",
    "    try:\n",
    "        api_instance.create_namespaced_config_map(namespace=namespace, body=configmap)\n",
    "        print(f\"ConfigMap '{CONFIGMAP_NAME}' created successfully in namespace '{namespace}'.\")\n",
    "    except ApiException as e:\n",
    "        if e.status == 409:\n",
    "            print(f\"ConfigMap '{CONFIGMAP_NAME}' already exists. Updating it...\")\n",
    "            api_instance.replace_namespaced_config_map(name=CONFIGMAP_NAME, namespace=namespace, body=configmap)\n",
    "        else:\n",
    "            print(f\"Error creating ConfigMap: {e}\")"
   ]
  },
  {
   "cell_type": "code",
   "execution_count": null,
   "id": "6d5672e1-29fb-47ea-829e-3cc5b664c73c",
   "metadata": {},
   "outputs": [],
   "source": [
    "from kfto_sdk_mnist import train_func\n",
    "from kubeflow.training.models import V1Volume, V1VolumeMount, V1PersistentVolumeClaimVolumeSource\n",
    "\n",
    "# Start PyTorchJob with 2 Workers and 2 GPU per Worker (e.g. multi-node, multi-worker job).\n",
    "client.create_job(\n",
    "    job_kind=\"PyTorchJob\",\n",
    "    name=\"sft\",\n",
    "    base_image=\"quay.io/modh/fms-hf-tuning:v2.7.1\",\n",
    "    num_workers=2,\n",
    "    resources_per_worker={\"gpu\": \"1\"},\n",
    "    env_vars={\n",
    "        # HuggingFace\n",
    "        \"HF_HOME\": \"/mnt/output/.cache\",\n",
    "        \"HF_TOKEN\": \"\",\n",
    "        \"SFT_TRAINER_CONFIG_JSON_PATH\": \"/mnt/data/config_lora.json\",\n",
    "        # NCCL / RCCL\n",
    "        \"NCCL_DEBUG\": \"INFO\",\n",
    "    },\n",
    "    volume_mounts=[\n",
    "        {\n",
    "           \"name\": \"data-volume\",\n",
    "           \"mountPath\": \"/mnt/data\"  # Directory where training dataset files will be available\n",
    "        },\n",
    "        V1VolumeMount(name=\"shared\", mount_path=\"/mnt/output\"),\n",
    "    ],\n",
    "    volumes=[\n",
    "       {\n",
    "           \"name\": \"data-volume\",\n",
    "           \"configMap\": {\"name\": \"fms-hf-tuning-config\"}  # Reference ConfigMap consisting training dataset file\n",
    "       },\n",
    "        V1Volume(name=\"shared\",\n",
    "                 persistent_volume_claim=V1PersistentVolumeClaimVolumeSource(claim_name=\"shared\"))\n",
    "        \n",
    "    ]\n",
    ")"
   ]
  },
  {
   "cell_type": "code",
   "execution_count": 39,
   "id": "7eb54f41-374d-4a2d-9a0a-4ef51001a82f",
   "metadata": {},
   "outputs": [
    {
     "name": "stdout",
     "output_type": "stream",
     "text": [
      "waiting.\n",
      "PytorchJob succeeded!\n"
     ]
    }
   ],
   "source": [
    "import time\n",
    "print(\"waiting.\")\n",
    "while not client.is_job_succeeded(name=\"sft\"):\n",
    "    print(\".\", end=\"\")\n",
    "    time.sleep(1)\n",
    "print(\"PytorchJob succeeded!\")"
   ]
  },
  {
   "cell_type": "code",
   "execution_count": 40,
   "id": "142c2944-3f01-4634-be30-22100db0fa33",
   "metadata": {},
   "outputs": [],
   "source": [
    "client.delete_job(\"sft\")"
   ]
  }
 ],
 "metadata": {
  "kernelspec": {
   "display_name": "Python 3.11",
   "language": "python",
   "name": "python3"
  },
  "language_info": {
   "codemirror_mode": {
    "name": "ipython",
    "version": 3
   },
   "file_extension": ".py",
   "mimetype": "text/x-python",
   "name": "python",
   "nbconvert_exporter": "python",
   "pygments_lexer": "ipython3",
   "version": "3.11.7"
  }
 },
 "nbformat": 4,
 "nbformat_minor": 5
}
