{
 "cells": [
  {
   "cell_type": "markdown",
   "id": "0223daea-31a5-441b-ae6e-671be1c3a047",
   "metadata": {},
   "source": [
    "## MNIST Distributed Training\n",
    "\n",
    "### Overview\n",
    "Distributed training of a CNN model on MNIST handwritten digit dataset using PyTorch's DistributedDataParallel (DDP).\n",
    "### Training Setup\n",
    "- **Backend**: NCCL (GPU) / Gloo (CPU)\n",
    "- **Data**: MNIST test set (train=False)\n",
    "- **Distributed**: Multi-Node Multi-CPU/GPU with DistributedSampler\n",
    "- **Device Flexibility**: Auto-fallback GPU→CPU\n",
    "### Key Parameters\n",
    "- `epochs`: Training iterations\n",
    "- `batch_size`: Samples per device\n",
    "- `lr`: Learning rate\n",
    "- `save_every`: Checkpoint frequency\n",
    "- `backend`: Communication backend"
   ]
  },
  {
   "cell_type": "code",
   "execution_count": null,
   "id": "af90293f-c2fa-4a18-aed6-930bf2e4a03d",
   "metadata": {
    "scrolled": true
   },
   "outputs": [],
   "source": [
    "%pip install kubeflow\n",
    "%pip install -U kubeflow-training"
   ]
  },
  {
   "cell_type": "code",
   "execution_count": null,
   "id": "61425b7b-9133-4c12-95d1-9462ab131095",
   "metadata": {},
   "outputs": [],
   "source": [
    "%pip show kubeflow-training"
   ]
  },
  {
   "cell_type": "markdown",
   "id": "034f4da3-82d0-4110-984b-e5d1ef2041bc",
   "metadata": {},
   "source": [
    "### Initialise Training Client"
   ]
  },
  {
   "cell_type": "code",
   "execution_count": null,
   "id": "33ebf57b-6a7b-41fc-85bb-d9493a415f96",
   "metadata": {},
   "outputs": [],
   "source": [
    "from kubernetes import client\n",
    "from kubeflow.training import TrainingClient\n",
    "\n",
    "api_server = \"\"\n",
    "token = \"\"\n",
    "\n",
    "# Configure the API client with the server and token\n",
    "configuration = client.Configuration()\n",
    "configuration.host = api_server\n",
    "configuration.api_key = {\"authorization\": f\"Bearer {token}\"}\n",
    "configuration.verify_ssl = False  # Disable SSL verification\n",
    "\n",
    "# Initialize API client and TrainingClient with the configuration\n",
    "api_client = client.ApiClient(configuration)\n",
    "client = TrainingClient(client_configuration=api_client.configuration)\n",
    "\n",
    "print(\"successfully authenticated!\")"
   ]
  },
  {
   "cell_type": "markdown",
   "id": "bcdd9bfd-c852-4aa5-939d-ca4e1d81c013",
   "metadata": {},
   "source": [
    "### Submit PytorchJob using Kubeflow-Training SDK to be managed by Kubeflow Trainer V1"
   ]
  },
  {
   "cell_type": "code",
   "execution_count": null,
   "id": "2040326f-860c-4080-8cda-f9f8dcd18ebe",
   "metadata": {},
   "outputs": [],
   "source": [
    "from kfto_mnist import main\n",
    "from kubeflow.training.models import V1Volume, V1VolumeMount, V1PersistentVolumeClaimVolumeSource\n",
    "\n",
    "# Start PyTorchJob with 2 Workers and 2 GPU per Worker (e.g. multi-node, multi-worker job).\n",
    "client.create_job(\n",
    "    name=\"pytorch-ddp\",\n",
    "    train_func=main,\n",
    "    base_image=\"quay.io/modh/training:py311-cuda121-torch241\",\n",
    "    num_workers=2,\n",
    "    resources_per_worker={\"gpu\": \"1\"},\n",
    "    packages_to_install=[\"torchvision==0.19.0\",\"minio\"],\n",
    "    parameters={\n",
    "       \"epochs\": 5, \n",
    "       \"save_every\": 2, \n",
    "       \"batch_size\": 2, \n",
    "       \"backend\": \"gloo\",\n",
    "       \"lr\" : 0.001, \n",
    "       \"dataset_path\": \"/shared/data\", \n",
    "       'snapshot_path': \"/shared/checkpoints/snapshot_mnist.pt\"\n",
    "    },\n",
    "    env_vars={\n",
    "        \"NCCL_DEBUG\": \"INFO\", \n",
    "        \"TORCH_DISTRIBUTED_DEBUG\": \"DETAIL\",\n",
    "    },\n",
    "    volumes=[\n",
    "        V1Volume(\n",
    "            name=\"shared\",\n",
    "            persistent_volume_claim=V1PersistentVolumeClaimVolumeSource(claim_name=\"shared\")\n",
    "        ),\n",
    "    ],\n",
    "    volume_mounts=[\n",
    "        V1VolumeMount(name=\"shared\", mount_path=\"/shared\"),\n",
    "    ],\n",
    ")"
   ]
  },
  {
   "cell_type": "markdown",
   "id": "1b614dd6-3669-4503-9da0-5097b781e61c",
   "metadata": {},
   "source": [
    "### Get PytorchJob Logs"
   ]
  },
  {
   "cell_type": "code",
   "execution_count": null,
   "id": "05ab1733-eb5d-45c0-8751-19a2bf3d2431",
   "metadata": {
    "scrolled": true
   },
   "outputs": [],
   "source": [
    "logs= client.get_job_logs(name=\"pytorch-ddp\")\n",
    "print(\"pytorch-ddp-master-0:\\n\\n\"+logs[0]['pytorch-ddp-master-0'])\n",
    "if client.is_job_succeeded(name=\"pytorch-ddp\"):\n",
    "    print(\"PytorchJob succeeded!\")"
   ]
  },
  {
   "cell_type": "code",
   "execution_count": null,
   "id": "cf62a15a-3202-4239-a7bf-39b466a8c852",
   "metadata": {},
   "outputs": [],
   "source": [
    "import time\n",
    "print(\"waiting.\")\n",
    "while not client.is_job_succeeded(name=\"pytorch-ddp\"):\n",
    "    print(\".\", end=\"\")\n",
    "    time.sleep(1)\n",
    "print(\"\\nPytorchJob succeeded!\")"
   ]
  },
  {
   "cell_type": "markdown",
   "id": "d30f3c09-cffe-467d-b48e-b1c43a529b4c",
   "metadata": {},
   "source": [
    "### Cleanup resources created"
   ]
  },
  {
   "cell_type": "code",
   "execution_count": null,
   "id": "d1c3f19c-5aba-4738-8ba2-32a3dc6b15b0",
   "metadata": {},
   "outputs": [],
   "source": [
    "client.delete_job(name=\"pytorch-ddp\", namespace=\"abdhumal-test\")"
   ]
  }
 ],
 "metadata": {
  "kernelspec": {
   "display_name": "Python 3.12",
   "language": "python",
   "name": "python3"
  },
  "language_info": {
   "codemirror_mode": {
    "name": "ipython",
    "version": 3
   },
   "file_extension": ".py",
   "mimetype": "text/x-python",
   "name": "python",
   "nbconvert_exporter": "python",
   "pygments_lexer": "ipython3",
   "version": "3.12.9"
  }
 },
 "nbformat": 4,
 "nbformat_minor": 5
}
